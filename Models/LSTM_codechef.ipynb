{
  "nbformat": 4,
  "nbformat_minor": 0,
  "metadata": {
    "colab": {
      "name": "LSTM_final",
      "provenance": []
    },
    "kernelspec": {
      "name": "python3",
      "display_name": "Python 3"
    }
  },
  "cells": [
    {
      "cell_type": "code",
      "metadata": {
        "id": "9K0DKC0_3YJ8",
        "colab_type": "code",
        "colab": {}
      },
      "source": [
        "import os\n",
        "import collections\n",
        "import pandas as pd\n",
        "import numpy as np\n",
        "import re\n",
        "import matplotlib.pyplot as plt\n",
        "import re\n",
        "import random\n",
        "import pickle\n",
        "from pprint import pprint\n",
        "%matplotlib inline"
      ],
      "execution_count": 0,
      "outputs": []
    },
    {
      "cell_type": "code",
      "metadata": {
        "id": "7RbGBU4m3b7r",
        "colab_type": "code",
        "colab": {}
      },
      "source": [
        "from sklearn.preprocessing import MultiLabelBinarizer\n",
        "from sklearn.model_selection import train_test_split\n",
        "from sklearn.pipeline import Pipeline\n",
        "from sklearn.linear_model import LogisticRegression\n",
        "from sklearn.feature_extraction.text import CountVectorizer\n",
        "from sklearn.svm import LinearSVC\n",
        "from sklearn.feature_extraction.text import TfidfTransformer, TfidfVectorizer\n",
        "from sklearn.multiclass import OneVsRestClassifier\n",
        "\n",
        "from sklearn.metrics import accuracy_score, recall_score, precision_score, f1_score, roc_curve\n",
        "from sklearn.metrics import hamming_loss, roc_auc_score\n",
        "from sklearn.metrics import confusion_matrix \n",
        "import ssl\n",
        "import copy\n",
        "from keras import optimizers\n",
        "from keras.losses import binary_crossentropy\n",
        "from keras.metrics import binary_accuracy\n",
        "from keras.layers import Dense, Embedding, LSTM, SpatialDropout1D\n",
        "from keras.models import Sequential\n",
        "from keras.preprocessing.text import Tokenizer\n",
        "from keras.preprocessing.sequence import pad_sequences\n",
        "from keras.utils.np_utils import to_categorical\n",
        "from keras.callbacks import EarlyStopping\n",
        "\n",
        "from scipy.special import softmax\n",
        "\n",
        "ssl._create_default_https_context = ssl._create_unverified_context"
      ],
      "execution_count": 0,
      "outputs": []
    },
    {
      "cell_type": "code",
      "metadata": {
        "id": "ohN7EXwZ3egZ",
        "colab_type": "code",
        "outputId": "1d81ad70-5e72-47a4-ed0b-d91853e46271",
        "colab": {
          "base_uri": "https://localhost:8080/",
          "height": 141
        }
      },
      "source": [
        "!pip install imblearn\n",
        "from imblearn.over_sampling import RandomOverSampler,SMOTE, ADASYN, SMOTENC, SVMSMOTE\n",
        "from imblearn.pipeline import make_pipeline"
      ],
      "execution_count": 27,
      "outputs": [
        {
          "output_type": "stream",
          "text": [
            "Requirement already satisfied: imblearn in /usr/local/lib/python3.6/dist-packages (0.0)\n",
            "Requirement already satisfied: imbalanced-learn in /usr/local/lib/python3.6/dist-packages (from imblearn) (0.4.3)\n",
            "Requirement already satisfied: numpy>=1.8.2 in /usr/local/lib/python3.6/dist-packages (from imbalanced-learn->imblearn) (1.18.4)\n",
            "Requirement already satisfied: scikit-learn>=0.20 in /usr/local/lib/python3.6/dist-packages (from imbalanced-learn->imblearn) (0.22.2.post1)\n",
            "Requirement already satisfied: scipy>=0.13.3 in /usr/local/lib/python3.6/dist-packages (from imbalanced-learn->imblearn) (1.4.1)\n",
            "Requirement already satisfied: joblib>=0.11 in /usr/local/lib/python3.6/dist-packages (from scikit-learn>=0.20->imbalanced-learn->imblearn) (0.15.0)\n"
          ],
          "name": "stdout"
        }
      ]
    },
    {
      "cell_type": "code",
      "metadata": {
        "id": "HKtmpRIe3gYT",
        "colab_type": "code",
        "outputId": "22e522da-1cc2-4f93-d587-4512b7b7a2ab",
        "colab": {
          "resources": {
            "http://localhost:8080/nbextensions/google.colab/files.js": {
              "data": "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",
              "ok": true,
              "headers": [
                [
                  "content-type",
                  "application/javascript"
                ]
              ],
              "status": 200,
              "status_text": "OK"
            }
          },
          "base_uri": "https://localhost:8080/",
          "height": 83
        }
      },
      "source": [
        "from google.colab import files\n",
        "uploaded = files.upload()\n",
        "import io\n",
        "df = pd.read_csv(io.BytesIO(uploaded['codechef_questions_v6.csv']),usecols=[3,5,6])# Dataset is now stored in a Pandas Dataframe"
      ],
      "execution_count": 28,
      "outputs": [
        {
          "output_type": "display_data",
          "data": {
            "text/html": [
              "\n",
              "     <input type=\"file\" id=\"files-f4d052cf-14df-4e3d-9b27-d39b0cc9c947\" name=\"files[]\" multiple disabled />\n",
              "     <output id=\"result-f4d052cf-14df-4e3d-9b27-d39b0cc9c947\">\n",
              "      Upload widget is only available when the cell has been executed in the\n",
              "      current browser session. Please rerun this cell to enable.\n",
              "      </output>\n",
              "      <script src=\"/nbextensions/google.colab/files.js\"></script> "
            ],
            "text/plain": [
              "<IPython.core.display.HTML object>"
            ]
          },
          "metadata": {
            "tags": []
          }
        },
        {
          "output_type": "stream",
          "text": [
            "Saving codechef_questions_v6.csv to codechef_questions_v6 (1).csv\n"
          ],
          "name": "stdout"
        }
      ]
    },
    {
      "cell_type": "code",
      "metadata": {
        "id": "oNvu2BmaanPw",
        "colab_type": "code",
        "colab": {}
      },
      "source": [
        "# df = pd.read_csv(\"codechef_questions_v6.csv\",usecols=[3,5,6]) "
      ],
      "execution_count": 0,
      "outputs": []
    },
    {
      "cell_type": "code",
      "metadata": {
        "id": "YlUuCD_w3xVe",
        "colab_type": "code",
        "colab": {}
      },
      "source": [
        "if len(str(df['Problem Statement']).split(\".\",1))>1:\n",
        "  df['Problem Statement']=df['Problem Statement'].str.split(\".\",1).str[1]"
      ],
      "execution_count": 0,
      "outputs": []
    },
    {
      "cell_type": "code",
      "metadata": {
        "id": "ME9m4cqW36r7",
        "colab_type": "code",
        "outputId": "6a4c9427-f50e-4857-e898-42175bc740a8",
        "colab": {
          "base_uri": "https://localhost:8080/",
          "height": 206
        }
      },
      "source": [
        "df['prob_sol'] = df['Problem Statement'] +' '+ df['Solution']\n",
        "df.head()"
      ],
      "execution_count": 31,
      "outputs": [
        {
          "output_type": "execute_result",
          "data": {
            "text/html": [
              "<div>\n",
              "<style scoped>\n",
              "    .dataframe tbody tr th:only-of-type {\n",
              "        vertical-align: middle;\n",
              "    }\n",
              "\n",
              "    .dataframe tbody tr th {\n",
              "        vertical-align: top;\n",
              "    }\n",
              "\n",
              "    .dataframe thead th {\n",
              "        text-align: right;\n",
              "    }\n",
              "</style>\n",
              "<table border=\"1\" class=\"dataframe\">\n",
              "  <thead>\n",
              "    <tr style=\"text-align: right;\">\n",
              "      <th></th>\n",
              "      <th>Problem Statement</th>\n",
              "      <th>Solution</th>\n",
              "      <th>tags</th>\n",
              "      <th>prob_sol</th>\n",
              "    </tr>\n",
              "  </thead>\n",
              "  <tbody>\n",
              "    <tr>\n",
              "      <th>0</th>\n",
              "      <td>Read problems statements in  Mandarin Chinese...</td>\n",
              "      <td>\\n    #include &lt;cstring&gt;\\n    #include &lt;string...</td>\n",
              "      <td>['game']</td>\n",
              "      <td>Read problems statements in  Mandarin Chinese...</td>\n",
              "    </tr>\n",
              "    <tr>\n",
              "      <th>1</th>\n",
              "      <td>Read problems statements in  Mandarin Chinese...</td>\n",
              "      <td>\\n    #include &lt;cstring&gt;\\n    #include &lt;string...</td>\n",
              "      <td>['game']</td>\n",
              "      <td>Read problems statements in  Mandarin Chinese...</td>\n",
              "    </tr>\n",
              "    <tr>\n",
              "      <th>2</th>\n",
              "      <td>Read problems statements in  Mandarin Chinese...</td>\n",
              "      <td>\\n    #include &lt;iostream&gt;\\n    #include &lt;vecto...</td>\n",
              "      <td>['game']</td>\n",
              "      <td>Read problems statements in  Mandarin Chinese...</td>\n",
              "    </tr>\n",
              "    <tr>\n",
              "      <th>3</th>\n",
              "      <td>Read problems statements in  Mandarin Chinese...</td>\n",
              "      <td>\\n    #include &lt;bits/stdc++.h&gt;  \\n    using na...</td>\n",
              "      <td>['game']</td>\n",
              "      <td>Read problems statements in  Mandarin Chinese...</td>\n",
              "    </tr>\n",
              "    <tr>\n",
              "      <th>4</th>\n",
              "      <td>Read problems statements in  Mandarin Chinese...</td>\n",
              "      <td>\\n    /***************************************...</td>\n",
              "      <td>['game']</td>\n",
              "      <td>Read problems statements in  Mandarin Chinese...</td>\n",
              "    </tr>\n",
              "  </tbody>\n",
              "</table>\n",
              "</div>"
            ],
            "text/plain": [
              "                                   Problem Statement  ...                                           prob_sol\n",
              "0   Read problems statements in  Mandarin Chinese...  ...   Read problems statements in  Mandarin Chinese...\n",
              "1   Read problems statements in  Mandarin Chinese...  ...   Read problems statements in  Mandarin Chinese...\n",
              "2   Read problems statements in  Mandarin Chinese...  ...   Read problems statements in  Mandarin Chinese...\n",
              "3   Read problems statements in  Mandarin Chinese...  ...   Read problems statements in  Mandarin Chinese...\n",
              "4   Read problems statements in  Mandarin Chinese...  ...   Read problems statements in  Mandarin Chinese...\n",
              "\n",
              "[5 rows x 4 columns]"
            ]
          },
          "metadata": {
            "tags": []
          },
          "execution_count": 31
        }
      ]
    },
    {
      "cell_type": "code",
      "metadata": {
        "id": "fw5yQZkN39XT",
        "colab_type": "code",
        "outputId": "0e48f4be-d3f4-4879-c7b7-7a6c94cb2188",
        "colab": {
          "base_uri": "https://localhost:8080/",
          "height": 69
        }
      },
      "source": [
        "df.head()\n",
        "import nltk\n",
        "nltk.download('stopwords')\n",
        "from nltk.corpus import stopwords\n",
        "\n",
        "stop = stopwords.words('english')\n",
        "df['prob_sol'].apply(lambda x: [item for item in x if item not in stop])\n",
        "print(\"done\")"
      ],
      "execution_count": 32,
      "outputs": [
        {
          "output_type": "stream",
          "text": [
            "[nltk_data] Downloading package stopwords to /root/nltk_data...\n",
            "[nltk_data]   Package stopwords is already up-to-date!\n",
            "done\n"
          ],
          "name": "stdout"
        }
      ]
    },
    {
      "cell_type": "code",
      "metadata": {
        "id": "nwdRtxQTFmuK",
        "colab_type": "code",
        "colab": {}
      },
      "source": [
        "def clean_statement(statement):\n",
        "#     x = re.sub('-', ' ', x)\n",
        "    statement = re.sub('$', ' ', statement)\n",
        "    statement = re.sub('[^A-Za-z]+', ' ', statement)\n",
        "    statement = re.sub('[,|.|?|\\n]|\\t', '', statement)\n",
        "    statement = re.sub('n\\'t', ' ', statement)\n",
        "    statement = re.sub('submission|submissions|Submission|submission|th ', '', statement)\n",
        "    statement = re.sub('one|two|given|need', '', statement)\n",
        "    \n",
        "    return statement"
      ],
      "execution_count": 0,
      "outputs": []
    },
    {
      "cell_type": "code",
      "metadata": {
        "id": "4kpW9vACFqe_",
        "colab_type": "code",
        "colab": {}
      },
      "source": [
        "def clean_tags(tags):\n",
        "    \n",
        "    tags = clean_statement(tags).strip()\n",
        "    tags = list(re.split(' ',tags))\n",
        "    return tags"
      ],
      "execution_count": 0,
      "outputs": []
    },
    {
      "cell_type": "code",
      "metadata": {
        "id": "PRYeWVVSFsRI",
        "colab_type": "code",
        "colab": {}
      },
      "source": [
        "def get_unique_tags(tags):\n",
        "    \n",
        "    tags_list = []\n",
        "    tags_set = set(tags_list)\n",
        "    \n",
        "    for row in tags:\n",
        "        tags_set = tags_set.union(set(row))\n",
        "        \n",
        "    tags_list = list(tags_set)\n",
        "    \n",
        "    return tags_list"
      ],
      "execution_count": 0,
      "outputs": []
    },
    {
      "cell_type": "code",
      "metadata": {
        "id": "Q1pdnL-fFuYP",
        "colab_type": "code",
        "outputId": "ac1bb20b-fe54-47ed-94fa-9b38a8e530ef",
        "colab": {
          "base_uri": "https://localhost:8080/",
          "height": 54
        }
      },
      "source": [
        "# import copy\n",
        "\n",
        "# X = copy.deepcopy(df[\"prob_sol\"])\n",
        "X = df[\"prob_sol\"]\n",
        "Y = [clean_tags(x) for x in df[\"tags\"]]\n",
        "distinct_tags = get_unique_tags(Y)\n",
        "\n",
        "print(distinct_tags)\n",
        "\n",
        "\n"
      ],
      "execution_count": 36,
      "outputs": [
        {
          "output_type": "stream",
          "text": [
            "['bipartite', 'multiset', 'bruteforce', 'heap', 'euler', 'array', 'pointers', 'hard', 'suffix', 'parsing', 'digraph', 'binary', 'segment', 'inversions', 'gcd', 'enumeration', 'maths', 'pattern', 'matching', 'backtracking', 'advanced', 'counting', 'implementation', 'knapsack', 'matrix', 'recursion', 'theory', 'binarysearch', 'divide', 'memoization', 'combinatorics', 'prime', 'dfs', 'interactive', 'basic', 'geometry', 'algorithm', 'fenwick', 'adhoc', 'number', 'permutation', 'map', 'hashing', 'sets', 'dynamic', 'constructive', 'game', 'bfs', 'simulation', 'fft', 'series', 'disjoint', 'recurrence', 'kruskal', 'greedy', 'tree', 'set', 'graph', 'dijkstra', 'dp', 'sieve', 'deque', 'maxflow', 'bitwise', 'fibonacci', 'sorting', 'strings', 'trees', 'algebra', 'tries', 'expo', 'search', 'bitmasking', 'probability', 'combinatorial', 'regex', 'graphs', 'stack']\n"
          ],
          "name": "stdout"
        }
      ]
    },
    {
      "cell_type": "code",
      "metadata": {
        "id": "4_5_WfJZGyP2",
        "colab_type": "code",
        "outputId": "135ead66-6368-425d-caea-467652556919",
        "colab": {
          "base_uri": "https://localhost:8080/",
          "height": 34
        }
      },
      "source": [
        "print(len(distinct_tags))"
      ],
      "execution_count": 37,
      "outputs": [
        {
          "output_type": "stream",
          "text": [
            "78\n"
          ],
          "name": "stdout"
        }
      ]
    },
    {
      "cell_type": "code",
      "metadata": {
        "id": "ar6bLM8lGQ_M",
        "colab_type": "code",
        "colab": {}
      },
      "source": [
        "mlb = MultiLabelBinarizer()\n",
        "Y = mlb.fit_transform(Y)"
      ],
      "execution_count": 0,
      "outputs": []
    },
    {
      "cell_type": "code",
      "metadata": {
        "id": "LQkru7GJIxum",
        "colab_type": "code",
        "outputId": "ea865297-c3d4-449e-ece9-ad5a3a598c25",
        "colab": {
          "base_uri": "https://localhost:8080/",
          "height": 225
        }
      },
      "source": [
        "print(mlb.classes_)\n",
        "\n",
        "#X,Y = process_dataset(X,Y)\n",
        "# plot_class_distribution(Y,mlb.classes_)"
      ],
      "execution_count": 39,
      "outputs": [
        {
          "output_type": "stream",
          "text": [
            "['adhoc' 'advanced' 'algebra' 'algorithm' 'array' 'backtracking' 'basic'\n",
            " 'bfs' 'binary' 'binarysearch' 'bipartite' 'bitmasking' 'bitwise'\n",
            " 'bruteforce' 'combinatorial' 'combinatorics' 'constructive' 'counting'\n",
            " 'deque' 'dfs' 'digraph' 'dijkstra' 'disjoint' 'divide' 'dp' 'dynamic'\n",
            " 'enumeration' 'euler' 'expo' 'fenwick' 'fft' 'fibonacci' 'game' 'gcd'\n",
            " 'geometry' 'graph' 'graphs' 'greedy' 'hard' 'hashing' 'heap'\n",
            " 'implementation' 'interactive' 'inversions' 'knapsack' 'kruskal' 'map'\n",
            " 'matching' 'maths' 'matrix' 'maxflow' 'memoization' 'multiset' 'number'\n",
            " 'parsing' 'pattern' 'permutation' 'pointers' 'prime' 'probability'\n",
            " 'recurrence' 'recursion' 'regex' 'search' 'segment' 'series' 'set' 'sets'\n",
            " 'sieve' 'simulation' 'sorting' 'stack' 'strings' 'suffix' 'theory' 'tree'\n",
            " 'trees' 'tries']\n"
          ],
          "name": "stdout"
        }
      ]
    },
    {
      "cell_type": "code",
      "metadata": {
        "id": "DGzvhotfgX5z",
        "colab_type": "code",
        "colab": {}
      },
      "source": [
        ""
      ],
      "execution_count": 0,
      "outputs": []
    },
    {
      "cell_type": "code",
      "metadata": {
        "id": "wF9Gx_dciLTg",
        "colab_type": "code",
        "colab": {}
      },
      "source": [
        "def reduce_sample_imbalance(X_train,Y_train):\n",
        "    \n",
        "    global X, Y, mlb, distinct_tags\n",
        "        \n",
        "    xtrain_col_index = X_train.shape[1]\n",
        "    xtrain_row_index = X_train.shape[0]\n",
        "    \n",
        "    XY = np.column_stack((X_train,Y_train))\n",
        "    \n",
        "    labels = [0]*len(mlb.classes_)\n",
        "    row_index_to_delete = []\n",
        "    ratio = []\n",
        "    \n",
        "    for index in range(Y_train.shape[1]):\n",
        "        ratio.append(np.sum(Y_train[:,index])/Y_train.shape[0])\n",
        "        if np.sum(Y_train[:,index])/Y_train.shape[0] > 0.005:\n",
        "            \n",
        "            labels[index] = 1\n",
        "            \n",
        "    ratio.sort()\n",
        "\n",
        "    count_deletions = [0]*len(labels)\n",
        "    for index in range(len(labels)):\n",
        "        if labels[index] == 1:\n",
        "\n",
        "            count_deletions[index] = int(np.sum(Y_train[:,index]) * 0.995)    \n",
        "    \n",
        "    for index in range(Y_train.shape[0]):\n",
        "        flag_to_delete = True\n",
        "        \n",
        "        for yindex in range(X_train.shape[1],XY.shape[1]):\n",
        "            if Y_train[index][yindex-X_train.shape[1]] == 1:\n",
        "                if labels[yindex-X_train.shape[1]] == 0 or count_deletions[yindex-X_train.shape[1]] <= 0:\n",
        "                    flag_to_delete = False\n",
        "                    break\n",
        "        \n",
        "        if flag_to_delete:\n",
        "            row_index_to_delete.append(index)\n",
        "            for i in range(len(count_deletions)):\n",
        "                count_deletions[i] -= Y_train[index][i]\n",
        "    \n",
        "        if sum(count_deletions) <= 0:\n",
        "            break;\n",
        "            \n",
        "    print(XY.shape)\n",
        "    XY = np.delete(XY, row_index_to_delete,axis=0)\n",
        "    print(XY.shape)\n",
        "    \n",
        "    ratio = []\n",
        "    for index in range(X_train.shape[1],XY.shape[1]):\n",
        "        ratio.append(np.sum(XY[:,index])/XY.shape[0])\n",
        "    \n",
        "    plot_class_distribution(XY[:,X_train.shape[1]:],mlb.classes_)\n",
        "    \n",
        "    \n",
        "    data_to_repeat_index = [1]*XY.shape[0]\n",
        "    labels = [0]*len(mlb.classes_)\n",
        "    ratio = []\n",
        "    for index in range(xtrain_col_index,XY.shape[1]):\n",
        "        ratio.append(np.sum(XY[:,index])/XY.shape[0])\n",
        "        if np.sum(XY[:,index])/XY.shape[0] < 0.005:\n",
        "            labels[index-xtrain_col_index] = 1\n",
        "    \n",
        "\n",
        "    ratio.sort()\n",
        "        \n",
        "    for index in range(XY.shape[0]):\n",
        "        for yindex in range(X_train.shape[1],XY.shape[1]):\n",
        "            if XY[index][yindex] == 1 and labels[yindex-X_train.shape[1]] > 0:\n",
        "                data_to_repeat_index[index] = 200\n",
        "                labels[yindex-X_train.shape[1]] = -1\n",
        "    \n",
        "    print(XY.shape)\n",
        "    XY = np.repeat(XY, repeats = data_to_repeat_index, axis=0)\n",
        "    print(XY.shape)\n",
        "    \n",
        "    X_train = XY[:,:X_train.shape[1]]\n",
        "    Y_train = XY[:,X_train.shape[1]:]\n",
        "\n",
        "    return X_train,Y_train"
      ],
      "execution_count": 0,
      "outputs": []
    },
    {
      "cell_type": "code",
      "metadata": {
        "id": "pQ5AoCXmigll",
        "colab_type": "code",
        "colab": {}
      },
      "source": [
        "def plot_class_distribution(Y,classes):\n",
        "    \n",
        "    count_list = [0]*Y.shape[1]\n",
        "    \n",
        "    for index in range(Y.shape[1]):\n",
        "        \n",
        "        count_list[index] = np.sum(Y[:,index])/Y.shape[0]\n",
        "    \n",
        "    plt.figure(figsize=(10, 15), dpi=100)\n",
        "    \n",
        "    plt.barh(classes,count_list, align='center', alpha=0.5)\n",
        "#     plt.bar(np.arange(Y.shape[1]),count_list, align='center', alpha=0.5)\n",
        "#     plt.plot(np.arange(Y.shape[1]),count_list)\n",
        "    plt.show()"
      ],
      "execution_count": 0,
      "outputs": []
    },
    {
      "cell_type": "code",
      "metadata": {
        "id": "TbkzWKYYyB7V",
        "colab_type": "code",
        "colab": {}
      },
      "source": [
        "def oversample_train_data(X_train,Y_train):\n",
        "    \n",
        "    global X, Y, mlb, distinct_tags\n",
        "    \n",
        "    X_train = pd.DataFrame(X_train).values\n",
        "    \n",
        "    XY = np.column_stack((X_train,Y_train))\n",
        "    \n",
        "    labels = []\n",
        "    data_to_repeat_index = [1]*Y_train.shape[0]\n",
        "    \n",
        "    for index in range(Y_train.shape[1]):\n",
        "        if np.sum(Y_train[:,index])/Y_train.shape[0] < 0.005:\n",
        "            labels.append(index)\n",
        "    \n",
        "    print(labels)\n",
        "    \n",
        "    for index in range(Y_train.shape[0]):\n",
        "        for label in labels:\n",
        "            if Y_train[index][label] == 1:\n",
        "                data_to_repeat_index[index] = 50\n",
        "    \n",
        "\n",
        "    XY = np.repeat(XY, repeats = data_to_repeat_index, axis=0)\n",
        "    \n",
        "    X_train = XY[:,0]\n",
        "    Y_train = XY[:,1:]\n",
        "        \n",
        "#     Ytrain = mlb.inverse_transform(Y_train)\n",
        "    \n",
        "#     print(Ytrain)\n",
        "    \n",
        "    X_train = pd.Series(X_train)\n",
        "    X_train = X_train.astype(str)\n",
        "    Y_train = Y_train.astype('int') \n",
        "    return X_train,Y_train"
      ],
      "execution_count": 0,
      "outputs": []
    },
    {
      "cell_type": "code",
      "metadata": {
        "id": "cHT_IbJwF0wA",
        "colab_type": "code",
        "outputId": "17454c1c-3fa1-4533-de47-8c75d4e27c2f",
        "colab": {
          "base_uri": "https://localhost:8080/",
          "height": 1000
        }
      },
      "source": [
        "n_most_common_words = 2000\n",
        "max_len = 500\n",
        "\n",
        "tokenizer = Tokenizer(num_words=n_most_common_words, filters=';/@?`~', lower=False)\n",
        "tokenizer.fit_on_texts(X.values)\n",
        "sequences = tokenizer.texts_to_sequences(X.values)\n",
        "word_index = tokenizer.word_index\n",
        "_X = pad_sequences(sequences, maxlen=max_len)\n",
        "\n",
        "\n",
        "X_train, X_validation, Y_train, Y_validation = train_test_split(_X, Y, test_size = 0.2, random_state = 0)\n",
        "\n",
        "# plot_class_distribution(Y_train,mlb.classes_)\n",
        "X_train,Y_train = reduce_sample_imbalance(X_train,Y_train)\n",
        "# X_train,Y_train = oversample_train_data(X_train,Y_train)\n",
        "# plot_class_distribution(Y_train,mlb.classes_)\n",
        "# # print(\"$$$$$$$$$$$$$$$$$$$$$$$$$$$$$$$$$$$$$$$$$$$$$$$$$$$$$$$$$$$$$$\")\n",
        "# plot_class_distribution(Y_validation,mlb.classes_)\n",
        "\n",
        "\n",
        "epochs = 20\n",
        "emb_dim = 300\n",
        "batch_size = 250\n",
        "\n",
        "print((X_train.shape, Y_train.shape, X_validation.shape, Y_validation.shape))\n",
        "\n",
        "model = Sequential()\n",
        "model.add(Embedding(n_most_common_words, emb_dim))\n",
        "# , recurrent_dropout=0.3\n",
        "model.add(LSTM(128, dropout=0.1))\n",
        "model.add(Dense(78, activation='softmax'))\n",
        "model.compile(optimizer='adam', loss='binary_crossentropy', metrics=['binary_accuracy'])\n",
        "history = model.fit(X_train, Y_train, epochs=epochs, batch_size=batch_size,validation_split=0.2,callbacks=[EarlyStopping(monitor='val_loss',patience=7, min_delta=0.0001)])\n",
        "print(model.summary())"
      ],
      "execution_count": 52,
      "outputs": [
        {
          "output_type": "stream",
          "text": [
            "(33231, 578)\n",
            "(1297, 578)\n"
          ],
          "name": "stdout"
        },
        {
          "output_type": "display_data",
          "data": {
            "image/png": "[encoded data removed]",
            "text/plain": [
              "<Figure size 1000x1500 with 1 Axes>"
            ]
          },
          "metadata": {
            "tags": [],
            "needs_background": "light"
          }
        },
        {
          "output_type": "stream",
          "text": [
            "(1297, 578)\n",
            "(5078, 578)\n",
            "((5078, 500), (5078, 78), (8308, 500), (8308, 78))\n"
          ],
          "name": "stdout"
        },
        {
          "output_type": "stream",
          "text": [
            "/usr/local/lib/python3.6/dist-packages/tensorflow/python/framework/indexed_slices.py:434: UserWarning: Converting sparse IndexedSlices to a dense Tensor of unknown shape. This may consume a large amount of memory.\n",
            "  \"Converting sparse IndexedSlices to a dense Tensor of unknown shape. \"\n"
          ],
          "name": "stderr"
        },
        {
          "output_type": "stream",
          "text": [
            "Train on 4062 samples, validate on 1016 samples\n",
            "Epoch 1/20\n",
            "4062/4062 [==============================] - 91s 22ms/step - loss: 0.1418 - binary_accuracy: 0.9692 - val_loss: 0.1322 - val_binary_accuracy: 0.9771\n",
            "Epoch 2/20\n",
            "4062/4062 [==============================] - 87s 21ms/step - loss: 0.1311 - binary_accuracy: 0.9692 - val_loss: 0.1448 - val_binary_accuracy: 0.9771\n",
            "Epoch 3/20\n",
            "4062/4062 [==============================] - 87s 22ms/step - loss: 0.1231 - binary_accuracy: 0.9692 - val_loss: 0.1493 - val_binary_accuracy: 0.9771\n",
            "Epoch 4/20\n",
            "4062/4062 [==============================] - 88s 22ms/step - loss: 0.1083 - binary_accuracy: 0.9692 - val_loss: 0.1539 - val_binary_accuracy: 0.9771\n",
            "Epoch 5/20\n",
            "4062/4062 [==============================] - 88s 22ms/step - loss: 0.0917 - binary_accuracy: 0.9696 - val_loss: 0.1494 - val_binary_accuracy: 0.9771\n",
            "Epoch 6/20\n",
            "4062/4062 [==============================] - 88s 22ms/step - loss: 0.0821 - binary_accuracy: 0.9706 - val_loss: 0.1468 - val_binary_accuracy: 0.9770\n",
            "Epoch 7/20\n",
            "4062/4062 [==============================] - 88s 22ms/step - loss: 0.0812 - binary_accuracy: 0.9700 - val_loss: 0.1418 - val_binary_accuracy: 0.9771\n",
            "Epoch 8/20\n",
            "4062/4062 [==============================] - 92s 23ms/step - loss: 0.0730 - binary_accuracy: 0.9716 - val_loss: 0.1504 - val_binary_accuracy: 0.9770\n",
            "Model: \"sequential_3\"\n",
            "_________________________________________________________________\n",
            "Layer (type)                 Output Shape              Param #   \n",
            "=================================================================\n",
            "embedding_3 (Embedding)      (None, None, 300)         600000    \n",
            "_________________________________________________________________\n",
            "lstm_3 (LSTM)                (None, 128)               219648    \n",
            "_________________________________________________________________\n",
            "dense_3 (Dense)              (None, 78)                10062     \n",
            "=================================================================\n",
            "Total params: 829,710\n",
            "Trainable params: 829,710\n",
            "Non-trainable params: 0\n",
            "_________________________________________________________________\n",
            "None\n"
          ],
          "name": "stdout"
        }
      ]
    },
    {
      "cell_type": "code",
      "metadata": {
        "id": "xdY3lIHRghyV",
        "colab_type": "code",
        "colab": {}
      },
      "source": [
        "_y_predicted = model.predict(X_validation)"
      ],
      "execution_count": 0,
      "outputs": []
    },
    {
      "cell_type": "code",
      "metadata": {
        "id": "qjbj-aBAi5ot",
        "colab_type": "code",
        "outputId": "7ffa6ffb-0a65-4169-e49b-6f81a285e14d",
        "colab": {
          "base_uri": "https://localhost:8080/",
          "height": 193
        }
      },
      "source": [
        "global X, Y, mlb, distinct_tags\n",
        "\n",
        "# y_predicted = copy.deepcopy(_y_predicted)\n",
        "# m = []\n",
        "# for row in y_predicted:\n",
        "#     m.append(row)\n",
        "\n",
        "# final_prediction = []\n",
        "\n",
        "# for row in m:\n",
        "#     temp = []\n",
        "#     val = np.sort(row)[-3]\n",
        "#     for item in row:\n",
        "#         if item < val:\n",
        "#             temp.append(0)\n",
        "#         else:\n",
        "#             temp.append(1)\n",
        "#     final_prediction.append(temp)\n",
        "\n",
        "\n",
        "# final_prediction = np.array(final_prediction)\n",
        "\n",
        "y_predicted = copy.deepcopy(_y_predicted)\n",
        "predicted = [([0]*Y_validation.shape[1])]*Y_validation.shape[0]\n",
        "\n",
        "cnt = 0\n",
        "for row in y_predicted:\n",
        "    count_tags = int(np.sum(Y_validation[cnt,:]))\n",
        "    index_list = []\n",
        "\n",
        "    predicted[cnt] = [0]*Y_validation.shape[1]\n",
        "    \n",
        "    for i in range(count_tags):\n",
        "        max_val = -1\n",
        "        max_index = -1\n",
        "        row = list(row)\n",
        "        for j in range(len(row)):\n",
        "            if row[j] > max_val:\n",
        "\n",
        "                max_index = j\n",
        "                max_val = row[j]\n",
        "        \n",
        "        if max_val != -1 and max_index != -1:\n",
        "\n",
        "            index_list.append(max_index)\n",
        "            predicted[cnt][max_index] = 1\n",
        "            row[max_index] = -10\n",
        "    cnt += 1\n",
        "    \n",
        "\n",
        "final_prediction = predicted\n",
        "final_prediction = np.array(final_prediction,dtype=np.int64)\n",
        "Y_validation[int(Y_validation.shape[0]/2),:] =  1\n",
        "\n",
        "        \n",
        "print(\"Hamming_loss: \",hamming_loss(Y_validation,final_prediction))\n",
        "print('Test recall_score is {}'.format(recall_score(Y_validation, final_prediction,average = 'weighted')))\n",
        "print('Test precision_score is {}'.format(precision_score(Y_validation, final_prediction,average = 'weighted')))\n",
        "print('Test f1_score is {}'.format(f1_score(Y_validation, final_prediction,average = 'weighted')))\n",
        "print(\"roc_auc_score: \",roc_auc_score(Y_validation,final_prediction,average = 'weighted'))\n",
        "\n",
        "all_labels = mlb.inverse_transform(final_prediction)\n",
        "y_labels = mlb.inverse_transform(Y_validation)\n",
        "\n",
        "# for item, labels in zip(y_labels, all_labels):\n",
        "#         print('{0} => {1}'.format(item, ', '.join(labels)))\n",
        "        \n",
        "        \n",
        "################################################################################\n",
        "\n",
        "metrics_list = []\n",
        "recall_list = []\n",
        "precision_list = []\n",
        "roc_auc_list = []\n",
        "f1_score_list = []\n",
        "\n",
        "classes_list = mlb.classes_\n",
        "    \n",
        "for col_index in range(Y_validation.shape[1]):\n",
        "    recall_list.append(recall_score(Y_validation[:,col_index],final_prediction[:,col_index]))\n",
        "    \n",
        "for col_index in range(Y_validation.shape[1]):\n",
        "    precision_list.append(precision_score(Y_validation[:,col_index],final_prediction[:,col_index]))\n",
        "    \n",
        "for col_index in range(Y_validation.shape[1]):\n",
        "    f1_score_list.append(f1_score(Y_validation[:,col_index],final_prediction[:,col_index]))\n",
        "    \n",
        "for col_index in range(Y_validation.shape[1]):\n",
        "    roc_auc_list.append(roc_auc_score(Y_validation[:,col_index],final_prediction[:,col_index]))\n",
        "\n",
        "metrics_list = [mlb,classes_list,recall_list,precision_list,f1_score_list,roc_auc_list,Y_validation,final_prediction]\n",
        "\n",
        "with open('LSTM_Codechef', 'wb') as fp:\n",
        "    pickle.dump(metrics_list, fp)\n",
        "\n",
        "################################################################################\n"
      ],
      "execution_count": 54,
      "outputs": [
        {
          "output_type": "stream",
          "text": [
            "Hamming_loss:  0.03136149278421787\n",
            "Test recall_score is 0.06798245614035088\n",
            "Test precision_score is 0.17028632078389108\n"
          ],
          "name": "stdout"
        },
        {
          "output_type": "stream",
          "text": [
            "/usr/local/lib/python3.6/dist-packages/sklearn/metrics/_classification.py:1272: UndefinedMetricWarning: Precision is ill-defined and being set to 0.0 in labels with no predicted samples. Use `zero_division` parameter to control this behavior.\n",
            "  _warn_prf(average, modifier, msg_start, len(result))\n"
          ],
          "name": "stderr"
        },
        {
          "output_type": "stream",
          "text": [
            "Test f1_score is 0.04358983230596132\n",
            "roc_auc_score:  0.5196914159413769\n"
          ],
          "name": "stdout"
        },
        {
          "output_type": "stream",
          "text": [
            "/usr/local/lib/python3.6/dist-packages/sklearn/metrics/_classification.py:1272: UndefinedMetricWarning: Precision is ill-defined and being set to 0.0 due to no predicted samples. Use `zero_division` parameter to control this behavior.\n",
            "  _warn_prf(average, modifier, msg_start, len(result))\n"
          ],
          "name": "stderr"
        }
      ]
    },
    {
      "cell_type": "code",
      "metadata": {
        "id": "fPkizJ32uNli",
        "colab_type": "code",
        "colab": {}
      },
      "source": [
        "# predictions=model.predict([X_validation])\n",
        "# thresholds=[0.1,0.2,0.3,0.4,0.5,0.6,0.7,0.8,0.9]"
      ],
      "execution_count": 0,
      "outputs": []
    },
    {
      "cell_type": "code",
      "metadata": {
        "id": "R3wgDfxnuToJ",
        "colab_type": "code",
        "colab": {}
      },
      "source": [
        "# for val in thresholds:\n",
        "#     pred=predictions.copy()\n",
        "  \n",
        "#     pred[pred>=val]=1\n",
        "#     pred[pred<val]=0\n",
        "  \n",
        "#     precision = precision_score(Y_validation, pred, average='micro')\n",
        "#     recall = recall_score(Y_validation, pred, average='micro')\n",
        "#     f1 = f1_score(Y_validation, pred, average='micro')\n",
        "   \n",
        "#     print(\"Micro-average quality numbers\")\n",
        "#     print(\"Precision: {:.4f}, Recall: {:.4f}, F1-measure: {:.4f}\".format(precision, recall, f1))\n"
      ],
      "execution_count": 0,
      "outputs": []
    },
    {
      "cell_type": "code",
      "metadata": {
        "id": "9CArfuIyuUPD",
        "colab_type": "code",
        "colab": {}
      },
      "source": [
        ""
      ],
      "execution_count": 0,
      "outputs": []
    }
  ]
}