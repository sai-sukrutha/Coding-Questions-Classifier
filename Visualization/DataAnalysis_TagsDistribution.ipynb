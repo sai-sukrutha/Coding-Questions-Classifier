{
 "cells": [
  {
   "cell_type": "code",
   "execution_count": 1,
   "metadata": {},
   "outputs": [],
   "source": [
    "import os\n",
    "import collections\n",
    "import pandas as pd\n",
    "import numpy as np\n",
    "import re\n",
    "import matplotlib.pyplot as plt\n",
    "%matplotlib inline"
   ]
  },
  {
   "cell_type": "code",
   "execution_count": 2,
   "metadata": {},
   "outputs": [],
   "source": [
    "from sklearn.preprocessing import MultiLabelBinarizer"
   ]
  },
  {
   "cell_type": "code",
   "execution_count": 3,
   "metadata": {},
   "outputs": [],
   "source": [
    "# from google.colab import drive\n",
    "# drive.mount('/content/drive')"
   ]
  },
  {
   "cell_type": "code",
   "execution_count": 4,
   "metadata": {},
   "outputs": [],
   "source": [
    "# data=pd.read_csv(\"/content/drive/My Drive/data/questions.csv\",usecols=[3,5,6]) \n",
    "data=pd.read_csv(\"codechef_questions_v6.csv\",usecols=[3,5,6]) \n",
    "\n",
    "if len(str(data['Problem Statement']).split(\".\",1))>1:\n",
    "  data['Problem Statement']=data['Problem Statement'].str.split(\".\",1).str[1]"
   ]
  },
  {
   "cell_type": "code",
   "execution_count": 5,
   "metadata": {},
   "outputs": [
    {
     "data": {
      "text/html": [
       "<div>\n",
       "<style scoped>\n",
       "    .dataframe tbody tr th:only-of-type {\n",
       "        vertical-align: middle;\n",
       "    }\n",
       "\n",
       "    .dataframe tbody tr th {\n",
       "        vertical-align: top;\n",
       "    }\n",
       "\n",
       "    .dataframe thead th {\n",
       "        text-align: right;\n",
       "    }\n",
       "</style>\n",
       "<table border=\"1\" class=\"dataframe\">\n",
       "  <thead>\n",
       "    <tr style=\"text-align: right;\">\n",
       "      <th></th>\n",
       "      <th>Problem Statement</th>\n",
       "      <th>Solution</th>\n",
       "      <th>tags</th>\n",
       "      <th>prob_sol</th>\n",
       "    </tr>\n",
       "  </thead>\n",
       "  <tbody>\n",
       "    <tr>\n",
       "      <th>0</th>\n",
       "      <td>Read problems statements in  Mandarin Chinese...</td>\n",
       "      <td>\\n    #include &lt;cstring&gt;\\n    #include &lt;string...</td>\n",
       "      <td>['game']</td>\n",
       "      <td>Read problems statements in  Mandarin Chinese...</td>\n",
       "    </tr>\n",
       "    <tr>\n",
       "      <th>1</th>\n",
       "      <td>Read problems statements in  Mandarin Chinese...</td>\n",
       "      <td>\\n    #include &lt;cstring&gt;\\n    #include &lt;string...</td>\n",
       "      <td>['game']</td>\n",
       "      <td>Read problems statements in  Mandarin Chinese...</td>\n",
       "    </tr>\n",
       "    <tr>\n",
       "      <th>2</th>\n",
       "      <td>Read problems statements in  Mandarin Chinese...</td>\n",
       "      <td>\\n    #include &lt;iostream&gt;\\n    #include &lt;vecto...</td>\n",
       "      <td>['game']</td>\n",
       "      <td>Read problems statements in  Mandarin Chinese...</td>\n",
       "    </tr>\n",
       "    <tr>\n",
       "      <th>3</th>\n",
       "      <td>Read problems statements in  Mandarin Chinese...</td>\n",
       "      <td>\\n    #include &lt;bits/stdc++.h&gt;  \\n    using na...</td>\n",
       "      <td>['game']</td>\n",
       "      <td>Read problems statements in  Mandarin Chinese...</td>\n",
       "    </tr>\n",
       "    <tr>\n",
       "      <th>4</th>\n",
       "      <td>Read problems statements in  Mandarin Chinese...</td>\n",
       "      <td>\\n    /***************************************...</td>\n",
       "      <td>['game']</td>\n",
       "      <td>Read problems statements in  Mandarin Chinese...</td>\n",
       "    </tr>\n",
       "  </tbody>\n",
       "</table>\n",
       "</div>"
      ],
      "text/plain": [
       "                                   Problem Statement  \\\n",
       "0   Read problems statements in  Mandarin Chinese...   \n",
       "1   Read problems statements in  Mandarin Chinese...   \n",
       "2   Read problems statements in  Mandarin Chinese...   \n",
       "3   Read problems statements in  Mandarin Chinese...   \n",
       "4   Read problems statements in  Mandarin Chinese...   \n",
       "\n",
       "                                            Solution      tags  \\\n",
       "0  \\n    #include <cstring>\\n    #include <string...  ['game']   \n",
       "1  \\n    #include <cstring>\\n    #include <string...  ['game']   \n",
       "2  \\n    #include <iostream>\\n    #include <vecto...  ['game']   \n",
       "3  \\n    #include <bits/stdc++.h>  \\n    using na...  ['game']   \n",
       "4  \\n    /***************************************...  ['game']   \n",
       "\n",
       "                                            prob_sol  \n",
       "0   Read problems statements in  Mandarin Chinese...  \n",
       "1   Read problems statements in  Mandarin Chinese...  \n",
       "2   Read problems statements in  Mandarin Chinese...  \n",
       "3   Read problems statements in  Mandarin Chinese...  \n",
       "4   Read problems statements in  Mandarin Chinese...  "
      ]
     },
     "execution_count": 5,
     "metadata": {},
     "output_type": "execute_result"
    }
   ],
   "source": [
    "data['prob_sol'] = data['Problem Statement'] +' '+ data['Solution']\n",
    "data.head()"
   ]
  },
  {
   "cell_type": "code",
   "execution_count": 6,
   "metadata": {},
   "outputs": [],
   "source": [
    "# data.head()\n",
    "# import nltk\n",
    "# nltk.download('stopwords')\n",
    "# from nltk.corpus import stopwords\n",
    "\n",
    "# stop = stopwords.words('english')\n",
    "# data['prob_sol'].apply(lambda x: [item for item in x if item not in stop])\n",
    "# print(\"done\")"
   ]
  },
  {
   "cell_type": "code",
   "execution_count": 7,
   "metadata": {},
   "outputs": [],
   "source": [
    "def clean_statement(statement):\n",
    "#     x = re.sub('-', ' ', x)\n",
    "    statement = re.sub('$', ' ', statement)\n",
    "    statement = re.sub('[^A-Za-z]+', ' ', statement)\n",
    "    statement = re.sub('[,|.|?|\\n]|\\t', '', statement)\n",
    "    statement = re.sub('n\\'t', ' ', statement)\n",
    "    statement = re.sub('submission|submissions|Submission|submission|th ', '', statement)\n",
    "    statement = re.sub('one|two|given|need', '', statement)\n",
    "    \n",
    "    return statement"
   ]
  },
  {
   "cell_type": "code",
   "execution_count": 8,
   "metadata": {},
   "outputs": [],
   "source": [
    "def clean_tags(tags):\n",
    "    \n",
    "    tags = clean_statement(tags).strip()\n",
    "    tags = list(re.split(' ',tags))\n",
    "    return tags"
   ]
  },
  {
   "cell_type": "code",
   "execution_count": 9,
   "metadata": {},
   "outputs": [],
   "source": [
    "def get_unique_tags(tags):\n",
    "    \n",
    "    tags_list = []\n",
    "    \n",
    "    tags_set = set(tags_list)\n",
    "    \n",
    "    for row in tags:\n",
    "        tags_set = tags_set.union(set(row))\n",
    "        \n",
    "    tags_list = list(tags_set)\n",
    "    \n",
    "    return tags_list"
   ]
  },
  {
   "cell_type": "code",
   "execution_count": 10,
   "metadata": {},
   "outputs": [
    {
     "name": "stdout",
     "output_type": "stream",
     "text": [
      "['binarysearch', 'parsing', 'multiset', 'expo', 'tries', 'bfs', 'trees', 'deque', 'dfs', 'matrix', 'gcd', 'combinatorics', 'memoization', 'permutation', 'enumeration', 'kruskal', 'game', 'constructive', 'number', 'probability', 'segment', 'geometry', 'binary', 'sorting', 'graphs', 'recurrence', 'heap', 'backtracking', 'bruteforce', 'basic', 'counting', 'implementation', 'bitmasking', 'knapsack', 'algebra', 'digraph', 'dijkstra', 'fibonacci', 'recursion', 'prime', 'greedy', 'bitwise', 'set', 'hard', 'hashing', 'fft', 'array', 'theory', 'pattern', 'tree', 'inversions', 'series', 'sets', 'sieve', 'euler', 'maths', 'bipartite', 'adhoc', 'disjoint', 'graph', 'strings', 'fenwick', 'matching', 'dynamic', 'maxflow', 'combinatorial', 'interactive', 'suffix', 'dp', 'search', 'pointers', 'divide', 'map', 'algorithm', 'stack', 'regex', 'advanced', 'simulation']\n"
     ]
    }
   ],
   "source": [
    "# import copy\n",
    "\n",
    "# X = copy.deepcopy(data[\"prob_sol\"])\n",
    "X = data[\"prob_sol\"]\n",
    "Y = [clean_tags(x) for x in data[\"tags\"]]\n",
    "distinct_tags = get_unique_tags(Y)\n",
    "\n",
    "print(distinct_tags)\n",
    "\n",
    "mlb = MultiLabelBinarizer()\n",
    "Y = mlb.fit_transform(Y)"
   ]
  },
  {
   "cell_type": "code",
   "execution_count": 11,
   "metadata": {},
   "outputs": [],
   "source": [
    "def plot_tags( Y,tags ):\n",
    "    n = Y.shape[1]\n",
    "    m = Y.shape[0]\n",
    "    counts = [0]*n\n",
    "    for i in range(n):\n",
    "        counts[i] = np.sum( Y[:,i]/m )\n",
    "        \n",
    "    plt.figure( figsize=(10,15))\n",
    "    plt.barh(tags,counts,color='green')\n",
    "    plt.show()"
   ]
  },
  {
   "cell_type": "code",
   "execution_count": 12,
   "metadata": {},
   "outputs": [
    {
     "data": {
      "image/png": "[encoded data removed]",
      "text/plain": [
       "<Figure size 720x1080 with 1 Axes>"
      ]
     },
     "metadata": {
      "needs_background": "light"
     },
     "output_type": "display_data"
    }
   ],
   "source": [
    "plot_tags(Y,mlb.classes_)"
   ]
  }
 ],
 "metadata": {
  "kernelspec": {
   "display_name": "Python 3",
   "language": "python",
   "name": "python3"
  },
  "language_info": {
   "codemirror_mode": {
    "name": "ipython",
    "version": 3
   },
   "file_extension": ".py",
   "mimetype": "text/x-python",
   "name": "python",
   "nbconvert_exporter": "python",
   "pygments_lexer": "ipython3",
   "version": "3.7.5"
  }
 },
 "nbformat": 4,
 "nbformat_minor": 2
}
